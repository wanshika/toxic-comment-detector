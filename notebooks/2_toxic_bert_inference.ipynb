{
 "cells": [
  {
   "cell_type": "code",
   "execution_count": 1,
   "id": "6fc45f71-c200-4ec9-9bf9-9d8d5020b2af",
   "metadata": {},
   "outputs": [
    {
     "name": "stderr",
     "output_type": "stream",
     "text": [
      "/Users/wanshikapatro/toxic-comment-detector/venv/lib/python3.12/site-packages/tqdm/auto.py:21: TqdmWarning: IProgress not found. Please update jupyter and ipywidgets. See https://ipywidgets.readthedocs.io/en/stable/user_install.html\n",
      "  from .autonotebook import tqdm as notebook_tqdm\n"
     ]
    }
   ],
   "source": [
    "import torch\n",
    "import numpy as np\n",
    "from transformers import AutoTokenizer, AutoModelForSequenceClassification\n",
    "from sklearn.metrics import classification_report\n",
    "from tqdm import tqdm\n"
   ]
  },
  {
   "cell_type": "code",
   "execution_count": 7,
   "id": "2635c467-7597-4b80-9bb5-ad5b723cdb5f",
   "metadata": {},
   "outputs": [],
   "source": [
    "import pandas as pd\n",
    "from sklearn.model_selection import train_test_split\n",
    "\n",
    "# Load dataset\n",
    "df = pd.read_csv(\"../data/train.csv\")\n",
    "\n",
    "# Basic cleaning\n",
    "df = df.dropna(subset=[\"comment_text\"])\n",
    "df[\"clean_comment\"] = df[\"comment_text\"].str.lower().str.replace(r\"[^a-z\\s]\", \"\", regex=True)\n",
    "\n",
    "# Define features and labels\n",
    "X = df[\"clean_comment\"]\n",
    "y = df[[\"toxic\", \"severe_toxic\", \"obscene\", \"threat\", \"insult\", \"identity_hate\"]]\n",
    "\n",
    "# Split (same as before — make sure random_state matches)\n",
    "X_train, X_test, y_train, y_test = train_test_split(X, y, test_size=0.2, random_state=42)\n"
   ]
  },
  {
   "cell_type": "code",
   "execution_count": 3,
   "id": "71ff4641-9469-4c52-b911-ddc541bd6c06",
   "metadata": {},
   "outputs": [
    {
     "data": {
      "text/plain": [
       "BertForSequenceClassification(\n",
       "  (bert): BertModel(\n",
       "    (embeddings): BertEmbeddings(\n",
       "      (word_embeddings): Embedding(30522, 768, padding_idx=0)\n",
       "      (position_embeddings): Embedding(512, 768)\n",
       "      (token_type_embeddings): Embedding(2, 768)\n",
       "      (LayerNorm): LayerNorm((768,), eps=1e-12, elementwise_affine=True)\n",
       "      (dropout): Dropout(p=0.1, inplace=False)\n",
       "    )\n",
       "    (encoder): BertEncoder(\n",
       "      (layer): ModuleList(\n",
       "        (0-11): 12 x BertLayer(\n",
       "          (attention): BertAttention(\n",
       "            (self): BertSdpaSelfAttention(\n",
       "              (query): Linear(in_features=768, out_features=768, bias=True)\n",
       "              (key): Linear(in_features=768, out_features=768, bias=True)\n",
       "              (value): Linear(in_features=768, out_features=768, bias=True)\n",
       "              (dropout): Dropout(p=0.1, inplace=False)\n",
       "            )\n",
       "            (output): BertSelfOutput(\n",
       "              (dense): Linear(in_features=768, out_features=768, bias=True)\n",
       "              (LayerNorm): LayerNorm((768,), eps=1e-12, elementwise_affine=True)\n",
       "              (dropout): Dropout(p=0.1, inplace=False)\n",
       "            )\n",
       "          )\n",
       "          (intermediate): BertIntermediate(\n",
       "            (dense): Linear(in_features=768, out_features=3072, bias=True)\n",
       "            (intermediate_act_fn): GELUActivation()\n",
       "          )\n",
       "          (output): BertOutput(\n",
       "            (dense): Linear(in_features=3072, out_features=768, bias=True)\n",
       "            (LayerNorm): LayerNorm((768,), eps=1e-12, elementwise_affine=True)\n",
       "            (dropout): Dropout(p=0.1, inplace=False)\n",
       "          )\n",
       "        )\n",
       "      )\n",
       "    )\n",
       "    (pooler): BertPooler(\n",
       "      (dense): Linear(in_features=768, out_features=768, bias=True)\n",
       "      (activation): Tanh()\n",
       "    )\n",
       "  )\n",
       "  (dropout): Dropout(p=0.1, inplace=False)\n",
       "  (classifier): Linear(in_features=768, out_features=6, bias=True)\n",
       ")"
      ]
     },
     "execution_count": 3,
     "metadata": {},
     "output_type": "execute_result"
    }
   ],
   "source": [
    "model_name = \"unitary/toxic-bert\"\n",
    "\n",
    "tokenizer = AutoTokenizer.from_pretrained(model_name)\n",
    "model = AutoModelForSequenceClassification.from_pretrained(model_name)\n",
    "model.eval()\n"
   ]
  },
  {
   "cell_type": "code",
   "execution_count": 9,
   "id": "25e9a154-8644-43c0-bb4d-7b28ae78e190",
   "metadata": {},
   "outputs": [
    {
     "name": "stderr",
     "output_type": "stream",
     "text": [
      "100%|███████████████████████████████████████████████████████████████████████████████████████████████████████████████████████████████████████████████████████████████████████| 998/998 [1:31:31<00:00,  5.50s/it]\n"
     ]
    }
   ],
   "source": [
    "# Convert test comments to a list\n",
    "test_texts = X_test.tolist()\n",
    "batch_size = 32\n",
    "\n",
    "# Store all outputs\n",
    "all_logits = []\n",
    "\n",
    "# Run inference in batches (no gradients needed)\n",
    "with torch.no_grad():\n",
    "    for i in tqdm(range(0, len(test_texts), batch_size)):\n",
    "        batch = test_texts[i:i+batch_size]\n",
    "        encoded = tokenizer(batch, padding=True, truncation=True, return_tensors=\"pt\")\n",
    "        outputs = model(**encoded)\n",
    "        logits = torch.sigmoid(outputs.logits)  # Multi-label sigmoid activation\n",
    "        all_logits.append(logits.cpu().numpy())\n",
    "\n",
    "# Combine all batch outputs into one array\n",
    "predictions = np.vstack(all_logits)\n"
   ]
  },
  {
   "cell_type": "code",
   "execution_count": 11,
   "id": "3218bb8f-68ae-4cc4-a97b-0d903fd384f8",
   "metadata": {},
   "outputs": [
    {
     "name": "stdout",
     "output_type": "stream",
     "text": [
      "Predictions shape: (31915, 6)\n",
      "Ground truth shape: (31915, 6)\n"
     ]
    }
   ],
   "source": [
    "# Convert probabilities to binary (0/1) with threshold = 0.5\n",
    "threshold = 0.5\n",
    "binary_preds = (predictions >= threshold).astype(int)\n",
    "\n",
    "# Get ground truth\n",
    "y_true = y_test.values\n",
    "\n",
    "# Confirm shape matches\n",
    "print(\"Predictions shape:\", binary_preds.shape)\n",
    "print(\"Ground truth shape:\", y_true.shape)\n"
   ]
  },
  {
   "cell_type": "code",
   "execution_count": 13,
   "id": "0c8cf6cf-1fbb-44b4-bc79-fc226e3b87c1",
   "metadata": {},
   "outputs": [
    {
     "name": "stdout",
     "output_type": "stream",
     "text": [
      "\n",
      "Classification Report for toxic\n",
      "              precision    recall  f1-score   support\n",
      "\n",
      "           0       0.99      0.99      0.99     28859\n",
      "           1       0.88      0.92      0.90      3056\n",
      "\n",
      "    accuracy                           0.98     31915\n",
      "   macro avg       0.93      0.95      0.94     31915\n",
      "weighted avg       0.98      0.98      0.98     31915\n",
      "\n",
      "\n",
      "Classification Report for severe_toxic\n",
      "              precision    recall  f1-score   support\n",
      "\n",
      "           0       0.99      1.00      0.99     31594\n",
      "           1       0.51      0.50      0.50       321\n",
      "\n",
      "    accuracy                           0.99     31915\n",
      "   macro avg       0.75      0.75      0.75     31915\n",
      "weighted avg       0.99      0.99      0.99     31915\n",
      "\n",
      "\n",
      "Classification Report for obscene\n",
      "              precision    recall  f1-score   support\n",
      "\n",
      "           0       1.00      0.99      0.99     30200\n",
      "           1       0.82      0.94      0.88      1715\n",
      "\n",
      "    accuracy                           0.99     31915\n",
      "   macro avg       0.91      0.97      0.94     31915\n",
      "weighted avg       0.99      0.99      0.99     31915\n",
      "\n",
      "\n",
      "Classification Report for threat\n",
      "              precision    recall  f1-score   support\n",
      "\n",
      "           0       1.00      1.00      1.00     31841\n",
      "           1       0.42      0.93      0.58        74\n",
      "\n",
      "    accuracy                           1.00     31915\n",
      "   macro avg       0.71      0.96      0.79     31915\n",
      "weighted avg       1.00      1.00      1.00     31915\n",
      "\n",
      "\n",
      "Classification Report for insult\n",
      "              precision    recall  f1-score   support\n",
      "\n",
      "           0       0.99      0.99      0.99     30301\n",
      "           1       0.77      0.90      0.83      1614\n",
      "\n",
      "    accuracy                           0.98     31915\n",
      "   macro avg       0.88      0.94      0.91     31915\n",
      "weighted avg       0.98      0.98      0.98     31915\n",
      "\n",
      "\n",
      "Classification Report for identity_hate\n",
      "              precision    recall  f1-score   support\n",
      "\n",
      "           0       1.00      1.00      1.00     31621\n",
      "           1       0.64      0.74      0.69       294\n",
      "\n",
      "    accuracy                           0.99     31915\n",
      "   macro avg       0.82      0.87      0.84     31915\n",
      "weighted avg       0.99      0.99      0.99     31915\n",
      "\n"
     ]
    }
   ],
   "source": [
    "from sklearn.metrics import classification_report\n",
    "\n",
    "# Evaluate per label\n",
    "for i, label in enumerate(y_test.columns):\n",
    "    print(f\"\\nClassification Report for {label}\")\n",
    "    print(classification_report(y_true[:, i], binary_preds[:, i]))\n"
   ]
  },
  {
   "cell_type": "code",
   "execution_count": 15,
   "id": "04a08d4f-04a8-4b1d-bee6-144fc0732b20",
   "metadata": {},
   "outputs": [],
   "source": [
    "np.save(\"../outputs/toxic_bert_preds.npy\", predictions)\n"
   ]
  },
  {
   "cell_type": "code",
   "execution_count": null,
   "id": "51665548-3d9a-4c37-bd8f-ee0d741fd6db",
   "metadata": {},
   "outputs": [],
   "source": []
  }
 ],
 "metadata": {
  "kernelspec": {
   "display_name": "Python (toxicity-env)",
   "language": "python",
   "name": "toxicity-env"
  },
  "language_info": {
   "codemirror_mode": {
    "name": "ipython",
    "version": 3
   },
   "file_extension": ".py",
   "mimetype": "text/x-python",
   "name": "python",
   "nbconvert_exporter": "python",
   "pygments_lexer": "ipython3",
   "version": "3.12.7"
  }
 },
 "nbformat": 4,
 "nbformat_minor": 5
}
