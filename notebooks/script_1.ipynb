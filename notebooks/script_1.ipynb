{
 "cells": [
  {
   "cell_type": "code",
   "execution_count": 4,
   "id": "14a9f2cb-51d1-4f6e-91ce-9b5170787997",
   "metadata": {},
   "outputs": [
    {
     "data": {
      "text/plain": [
       "['models/logreg_model.pkl']"
      ]
     },
     "execution_count": 4,
     "metadata": {},
     "output_type": "execute_result"
    }
   ],
   "source": [
    "import pandas as pd\n",
    "from sklearn.feature_extraction.text import TfidfVectorizer\n",
    "from sklearn.linear_model import LogisticRegression\n",
    "from sklearn.model_selection import train_test_split\n",
    "import joblib\n",
    "import os\n",
    "\n",
    "# Setup\n",
    "LABELS = [\"toxic\", \"severe_toxic\", \"obscene\", \"threat\", \"insult\", \"identity_hate\"]\n",
    "os.makedirs(\"models\", exist_ok=True)\n",
    "\n",
    "# Load your data\n",
    "df = pd.read_csv(\"../data/train.csv\")\n",
    "X = df[\"comment_text\"]\n",
    "y = df[LABELS]\n",
    "\n",
    "# Fit TF-IDF\n",
    "vectorizer = TfidfVectorizer(max_features=10000, stop_words=\"english\")\n",
    "X_tfidf = vectorizer.fit_transform(X)\n",
    "\n",
    "# Fit Logistic Regression models\n",
    "logreg_models = {}\n",
    "for label in LABELS:\n",
    "    clf = LogisticRegression(max_iter=1000)\n",
    "    clf.fit(X_tfidf, y[label])\n",
    "    logreg_models[label] = clf\n",
    "\n",
    "# Save the fitted objects\n",
    "joblib.dump(vectorizer, \"models/tfidf_vectorizer.pkl\")\n",
    "joblib.dump(logreg_models, \"models/logreg_model.pkl\")\n"
   ]
  },
  {
   "cell_type": "code",
   "execution_count": null,
   "id": "1085d284-c67f-4c20-9bc0-2773175b476d",
   "metadata": {},
   "outputs": [],
   "source": []
  }
 ],
 "metadata": {
  "kernelspec": {
   "display_name": "Python (toxicity-env)",
   "language": "python",
   "name": "toxicity-env"
  },
  "language_info": {
   "codemirror_mode": {
    "name": "ipython",
    "version": 3
   },
   "file_extension": ".py",
   "mimetype": "text/x-python",
   "name": "python",
   "nbconvert_exporter": "python",
   "pygments_lexer": "ipython3",
   "version": "3.12.7"
  }
 },
 "nbformat": 4,
 "nbformat_minor": 5
}
